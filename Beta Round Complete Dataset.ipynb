{
 "cells": [
  {
   "cell_type": "code",
   "execution_count": 1,
   "metadata": {},
   "outputs": [],
   "source": [
    "import pandas as pd\n",
    "import numpy as np\n",
    "import re\n",
    "df = pd.read_csv('6-Beta-Round-Projects.csv')"
   ]
  },
  {
   "cell_type": "code",
   "execution_count": 2,
   "metadata": {},
   "outputs": [],
   "source": [
    "# Drop uninformative features\n",
    "columns_to_drop = ['projectNumber', 'createdAtBlock', 'statusUpdatedAtBlock','metadata.signature', 'metadata.application.round', 'metadata.application.project.lastUpdated',\n",
    "                   'metadata.application.project.id', 'metadata.application.project.logoImg',\n",
    "                   'metadata.application.project.metaPtr.protocol', 'metadata.application.project.metaPtr.pointer',\n",
    "                   'metadata.application.project.bannerImg', 'metadata.application.project.credentials.twitter.@context',\n",
    "                   'metadata.application.project.credentials.twitter.type', 'metadata.application.project.credentials.twitter.credentialSubject.id',\n",
    "                   'metadata.application.project.credentials.twitter.credentialSubject.@context', 'metadata.application.project.credentials.twitter.credentialSubject.provider',\n",
    "                   'metadata.application.project.credentials.twitter.credentialSubject.hash', 'metadata.application.project.credentials.twitter.issuer',\n",
    "                   'metadata.application.project.credentials.twitter.issuanceDate', 'metadata.application.project.credentials.twitter.proof.type',\n",
    "                   'metadata.application.project.credentials.twitter.proof.proofPurpose', 'metadata.application.project.credentials.twitter.proof.verificationMethod',\n",
    "                   'metadata.application.project.credentials.twitter.proof.created', 'metadata.application.project.credentials.twitter.proof.jws',\n",
    "                   'metadata.application.project.credentials.twitter.expirationDate', 'metadata.application.project.credentials.github.@context',\n",
    "                   'metadata.application.project.credentials.github.type', 'metadata.application.project.credentials.github.credentialSubject.id',\n",
    "                   'metadata.application.project.credentials.github.credentialSubject.provider', 'metadata.application.project.credentials.github.credentialSubject.hash',\n",
    "                   'metadata.application.project.credentials.github.credentialSubject.@context', 'metadata.application.project.credentials.github.issuer',\n",
    "                   'metadata.application.project.credentials.github.issuanceDate', 'metadata.application.project.credentials.github.proof.type',\n",
    "                   'metadata.application.project.credentials.github.proof.proofPurpose', 'metadata.application.project.credentials.github.proof.verificationMethod',\n",
    "                   'metadata.application.project.credentials.github.proof.created', 'metadata.application.project.credentials.github.proof.jws',\n",
    "                   'metadata.application.project.credentials.github.expirationDate']\n",
    "df.drop(columns=columns_to_drop, inplace=True)"
   ]
  },
  {
   "cell_type": "code",
   "execution_count": 3,
   "metadata": {},
   "outputs": [],
   "source": [
    "# Separate the application questions\n",
    "all_questions = df['metadata.application.answers'].apply(lambda x: [question['question'] for question in eval(x)]).explode().unique()\n",
    "\n",
    "for question in all_questions:\n",
    "    # Find the row index that contains the desired question\n",
    "    question_index = df['metadata.application.answers'].apply(lambda x: any(q['question'] == question for q in eval(x)))\n",
    "\n",
    "    # Extract the answer for the desired question from each row\n",
    "    def extract_answer(row):\n",
    "        try:\n",
    "            return next(q['answer'] for q in eval(row) if q['question'] == question)\n",
    "        except (KeyError, StopIteration):\n",
    "            return None\n",
    "\n",
    "    answers = df.loc[question_index, 'metadata.application.answers'].apply(extract_answer)\n",
    "\n",
    "    # Create a new column with the extracted answers\n",
    "    column_name = question.replace(' ', '_')  # Replace spaces with underscores for column name\n",
    "    df[column_name] = pd.Series(answers)\n",
    "\n",
    "df.drop('metadata.application.answers', axis=1, inplace=True)"
   ]
  },
  {
   "cell_type": "code",
   "execution_count": 4,
   "metadata": {},
   "outputs": [],
   "source": [
    "# Combine similar questions\n",
    "groups = {\n",
    "    'email': ['Email_Address', 'Email_Address_(for_us_to_share_updates_and_contact_you_directly)', 'Email_'],\n",
    "    'additionalInfo': [\"Anything_else_you'd_like_to_share_about_your_project,_previous_work,_or_other_project_affiliations?_Anything_you'd_like_to_add_that_has_not_been_covered?\",\n",
    "                       'Is_there_any_other_information_you_would_like_to_share_about_your_project,_previous_work,_other_project_affiliations,_or_potential_conflicts_of_interest?_(or_anything_not_covered_elsewhere_in_this_application_that_you_feel_is_relevant_to_share)'],\n",
    "    'externalFundingSources': ['Previous_project_funding_sources_(VC,_grants,_token_sales,_etc)',\n",
    "                               'Previous_Funding_Sources_(VC,_Token_Sales,_etc)',\n",
    "                               '_Previous_project_funding_sources_(VC,_grants,_token_sales,_etc)',\n",
    "                               'Project_Funding_Sources(VC,_Token_Sales,_etc)',\n",
    "                               'Funding_Sources'],\n",
    "    'priorFundingUSD': ['Total_prior_funding_for_project_in_USD', 'Total_Prior_Funding_for_Project_(in_USD)'],\n",
    "    'teamSize': ['Total_team_size', 'Total_Team_Size', 'Number_of_team_members', 'Team_Size'],\n",
    "    'ageMonths': ['How_old_is_the_project?_(Months)', 'How_old_is_the_project_(in_months)'],\n",
    "    'differentWalletAddress': ['If_you_participated_in_past_grant_rounds_using_a_different_project_payout_wallet_address,_please_share_it_here:',\n",
    "                     'If_you_participated_in_past_Gitcoin_grant_rounds_using_a_different_project_payout_wallet_address,_please_share_it_here:',\n",
    "                     'If_you_participated_in_past_grant_rounds_(i.e._DeSci_GR15)_using_a_different_project_payout_wallet_address,_please_share_it_here.'],\n",
    "    'teamSocialProfiles': ['Profiles_or_socials_of_other_main_team_members_publicly_associated_with_project',\n",
    "                           'Social_media_handles_of_other_main_team_members_publicly_associated_with_project'],\n",
    "    'eligibilityAttested': ['Have_you_read_and_confirmed_your_grant_abides_by_the_Program_General_Eligibility_Policy?_https://gitcoin.notion.site/Gitcoin-Grants-Beta-Round-Eligibility-b7fca9fd3c26450b89ded11caaa6497f',\n",
    "                               'Have_you_read_and_confirmed_your_grant_abides_by_the_Program_General_Eligibility_Policy?_https://gitcoin.notion.site/Gitcoin-Grants-Beta-Round-Eligibility-b7fca9fd3c26450b89ded11caaa6497f_(copy_and_paste_link_into_your_browser)',\n",
    "                               'Have_you_read_and_confirmed_your_grant_abides_by_the_Program_General_Eligibility_Policy?_https://www.notion.so/tecommons/Eligibility-Policy-7cf5ff8c323149cf84011712f070f009?pvs=4',\n",
    "                               'Have_you_read_and_confirmed_your_project_abides_by_the_Program_General_Eligibility_Policy?_https://gitcoin.notion.site/Gitcoin-Grants-Beta-Round-Eligibility-b7fca9fd3c26450b89ded11caaa6497f'],\n",
    "    'eligibilityExplanation': ['How_does_your_project_fit_into_the_OSS_round_eligibility_criteria?_',\n",
    "                         'How_does_your_project_fit_into_the_ETH_Infra_round_eligibility_criteria?',\n",
    "                         'How_does_your_project_fit_into_the_ZK_Tech_round_eligibility_criteria?_',\n",
    "                         'How_does_your_project_fit_into_the_Community_&_Education_round_eligibility_criteria?_',\n",
    "                         'How_does_your_project_fit_into_the_GCC_round_eligibility_criteria?_',\n",
    "                         'Please_describe_how_your_project_meets_the_round_eligibility_criteria._'],\n",
    "    'updates': ['Please_share_any_new_updates_or_milestones_from_the_prior_season.',\n",
    "                'Please_share_any_new_updates_or_milestones_from_the_prior_months',\n",
    "                \"If_you've_participated_in_past_grant_rounds,_please_share_any_new_updates_or_milestones_from_the_prior_months\",\n",
    "                'If_this_project_participated_in_past_grant_rounds,_please_share_any_new_updates_or_milestones_since_the_last_round.']}\n",
    "\n",
    "for group, columns in groups.items():\n",
    "    df[group] = df[columns].apply(lambda x: ','.join(x.dropna().astype(str)), axis=1)\n",
    "    df.drop(columns=columns, inplace=True)"
   ]
  },
  {
   "cell_type": "code",
   "execution_count": 5,
   "metadata": {},
   "outputs": [],
   "source": [
    "# Drop questions with encryption or less than 100 answers \n",
    "df.replace('', np.nan, inplace=True)\n",
    "value_counts = df.count()\n",
    "columns_to_drop = value_counts[value_counts < 100].index\n",
    "df.drop(columns=columns_to_drop, inplace=True)"
   ]
  },
  {
   "cell_type": "code",
   "execution_count": 6,
   "metadata": {},
   "outputs": [],
   "source": [
    "# Rename columns for easier comprehension\n",
    "column_names = {\n",
    "    'id': 'projectId',\n",
    "    'status': 'accepted',\n",
    "    'uniqueContributors': 'uniqueVoters',\n",
    "    'metadata.application.recipient': 'recipient',\n",
    "    'metadata.application.project.createdAt': 'datetime',\n",
    "    'metadata.application.project.title': 'title',\n",
    "    'metadata.application.project.description': 'description',\n",
    "    'metadata.application.project.website': 'website',\n",
    "    'metadata.application.project.userGithub': 'userGithub',\n",
    "    'metadata.application.project.projectGithub': 'projectGithub',\n",
    "    'metadata.application.project.projectTwitter': 'twitter'\n",
    "}\n",
    "df.rename(columns=column_names, inplace=True)"
   ]
  },
  {
   "cell_type": "code",
   "execution_count": 7,
   "metadata": {},
   "outputs": [],
   "source": [
    "# Add features for mean and median vote amounts\n",
    "df_votes = pd.read_csv('7 beta_round_votes.csv')\n",
    "mean_by_project_round = df_votes.groupby(['projectId', 'roundId'])['amountUSD'].mean()\n",
    "median_by_project_round = df_votes.groupby(['projectId', 'roundId'])['amountUSD'].median()\n",
    "df = df.merge(mean_by_project_round.rename('meanVoteUSD'), on=['projectId', 'roundId'], how='left')\n",
    "df = df.merge(median_by_project_round.rename('medianVoteUSD'), on=['projectId', 'roundId'], how='left')"
   ]
  },
  {
   "cell_type": "code",
   "execution_count": 10,
   "metadata": {},
   "outputs": [],
   "source": [
    "# Replace round ID with round name\n",
    "round_stats_df = pd.read_csv('3 beta_round_stats.csv')\n",
    "df['Truncated roundId'] = df['roundId'].str[:30]\n",
    "round_stats_df['Truncated ID'] = round_stats_df['Round ID'].str[:30]\n",
    "merged_df = pd.merge(df, round_stats_df, left_on='Truncated roundId', right_on='Truncated ID', how='left')\n",
    "merged_df['roundId'] = merged_df['Round name']\n",
    "merged_df.drop(['Round ID', 'Truncated ID', 'Round name', 'Truncated roundId'], axis=1, inplace=True)\n",
    "df = merged_df\n",
    "df.rename(columns={'roundId': 'roundName'}, inplace=True)"
   ]
  },
  {
   "cell_type": "code",
   "execution_count": 11,
   "metadata": {},
   "outputs": [],
   "source": [
    "# Combine responses of no external funding\n",
    "replacement = 'none'\n",
    "similar_responses = ['none - self bootstrap','not funded yet','no','self funded','0','N/a',\n",
    "                     \"Purely self-funded using Noah Chon Lee's and Jehan Azad's savings\",'Friends, self','NaN',\n",
    "                     'Team members','-','no vc funding','Team funding','No previous funding','not funded',\n",
    "                     'No token, 0 VC funding. Fully Self-Bootstrapped','Self-funded','Not available','nothing',\n",
    "                     'Independent and bootstrapped','Team member','Self-funded through service business',\n",
    "                     'Bootstrapped and volunteer','our own funds','no funding yet','my own money','Personal investment',\n",
    "                     'Out of pocket expenses',\"It was never financed, it's something I do for fun\",\n",
    "                     'No, actively looking for grants and donations', 'NO', 'None', 'No', 'NA', 'N/A',\n",
    "                     'Self-funded, working full-time as a therapist while undertaking my doctorate studies.',\n",
    "                     'Our startup capital comes from our team members, and we have been working for love rather than money, even without any profits yet.',\n",
    "                     'own money','Nil','non we are starting','bootstrapped','No funding before',\"founders' investment\",'N.A.',\n",
    "                     'None to date','non','zero funding','no previous funding sources','entirely own funded',\n",
    "                     'Founders investments','No VC or Token Sales','Personal',\"none, we're a bootstrapping startup in Africa\",\n",
    "                     'bootstrapping','Own savings','None yet.','Our own money','Not funded (bootstrapped)','Individual Investment',\n",
    "                     'No Funding','0','/',\"We are currently a self-funded organization, relying on our team's personal resources. We're actively seeking financial support to help us scale our efforts and continue delivering valuable services to the Web3 ecosystem. Thank you for your support in help us Build and Onboard to ENS and the greater Web3.\",\n",
    "                     'self','self raised','No VC & No Token','Bootstrap','Self and partners','No funds raised']\n",
    "df['externalFundingSources'] = df['externalFundingSources'].replace(similar_responses, replacement)"
   ]
  },
  {
   "cell_type": "code",
   "execution_count": 12,
   "metadata": {},
   "outputs": [],
   "source": [
    "# Convert application status and eligibility attestation to boolean\n",
    "status_mapping = {'APPROVED': True, 'REJECTED': False}\n",
    "df['accepted'] = df['accepted'].map(status_mapping).astype(bool)\n",
    "eligibility_mapping = {'yes': True, 'no': False}\n",
    "df['eligibilityAttested'] = df['eligibilityAttested'].str.lower().map(eligibility_mapping).astype(pd.BooleanDtype())"
   ]
  },
  {
   "cell_type": "code",
   "execution_count": 15,
   "metadata": {},
   "outputs": [],
   "source": [
    "# Convert creation datetime to datetime data type\n",
    "df['datetime'] = pd.to_datetime(df['datetime'], unit='ms')\n",
    "df['datetime'] = df['datetime'].dt.floor('s')"
   ]
  },
  {
   "cell_type": "code",
   "execution_count": 16,
   "metadata": {
    "scrolled": true
   },
   "outputs": [],
   "source": [
    "# Convert prior funding amounts, team size, and age from object to float\n",
    "df['priorFundingUSD'] = df['priorFundingUSD'].str.replace('[\\sUSD$,~]', '', regex=True)\n",
    "df['priorFundingUSD'] = df['priorFundingUSD'].str.replace('[kK]', '000', regex=True)\n",
    "df['priorFundingUSD'] = df['priorFundingUSD'].astype(float)\n",
    "df['teamSize'] = df['teamSize'].apply(lambda x: int(round(float(x))) if pd.notna(x) else np.nan)\n",
    "df['ageMonths'] = df['ageMonths'].apply(lambda x: re.sub('\\D', '', str(x)) if str(x).isdigit() else np.nan).astype(float)"
   ]
  },
  {
   "cell_type": "code",
   "execution_count": 17,
   "metadata": {
    "scrolled": true
   },
   "outputs": [],
   "source": [
    "# Add feature for number of rounds the projectId applied for\n",
    "rounds_applied = df['projectId'].value_counts()\n",
    "df['entries'] = df['projectId'].map(rounds_applied)"
   ]
  },
  {
   "cell_type": "code",
   "execution_count": 21,
   "metadata": {},
   "outputs": [],
   "source": [
    "# Reorder the columns\n",
    "new_column_order = ['projectId', 'entries', 'roundName', 'accepted', 'votes',\n",
    "        'uniqueVoters', 'amountUSD', 'meanVoteUSD', 'medianVoteUSD',\n",
    "        'title', 'description', 'datetime', 'recipient', 'website',\n",
    "        'userGithub', 'projectGithub', 'twitter', 'ageMonths','externalFundingSources', \n",
    "        'priorFundingUSD', 'teamSize', 'teamSocialProfiles', 'eligibilityAttested',\n",
    "        'eligibilityExplanation', 'updates', 'additionalInfo'] \n",
    "df = df[new_column_order]"
   ]
  },
  {
   "cell_type": "code",
   "execution_count": 25,
   "metadata": {},
   "outputs": [
    {
     "name": "stdout",
     "output_type": "stream",
     "text": [
      "projectId                         object\n",
      "entries                            int64\n",
      "roundName                         object\n",
      "accepted                            bool\n",
      "votes                              int64\n",
      "uniqueVoters                       int64\n",
      "amountUSD                        float64\n",
      "meanVoteUSD                      float64\n",
      "medianVoteUSD                    float64\n",
      "title                             object\n",
      "description                       object\n",
      "datetime                  datetime64[ns]\n",
      "recipient                         object\n",
      "website                           object\n",
      "userGithub                        object\n",
      "projectGithub                     object\n",
      "twitter                           object\n",
      "ageMonths                        float64\n",
      "externalFundingSources            object\n",
      "priorFundingUSD                  float64\n",
      "teamSize                         float64\n",
      "teamSocialProfiles                object\n",
      "eligibilityAttested              boolean\n",
      "eligibilityExplanation            object\n",
      "updates                           object\n",
      "additionalInfo                    object\n",
      "dtype: object\n"
     ]
    }
   ],
   "source": [
    "print(df.dtypes)"
   ]
  },
  {
   "cell_type": "code",
   "execution_count": 22,
   "metadata": {
    "scrolled": false
   },
   "outputs": [
    {
     "name": "stdout",
     "output_type": "stream",
     "text": [
      "Index(['projectId', 'entries', 'roundName', 'accepted', 'votes',\n",
      "       'uniqueVoters', 'amountUSD', 'meanVoteUSD', 'medianVoteUSD', 'title',\n",
      "       'description', 'datetime', 'recipient', 'website', 'userGithub',\n",
      "       'projectGithub', 'twitter', 'ageMonths', 'externalFundingSources',\n",
      "       'priorFundingUSD', 'teamSize', 'teamSocialProfiles',\n",
      "       'eligibilityAttested', 'eligibilityExplanation', 'updates',\n",
      "       'additionalInfo'],\n",
      "      dtype='object')\n"
     ]
    }
   ],
   "source": [
    "print(df.columns)"
   ]
  },
  {
   "cell_type": "code",
   "execution_count": 24,
   "metadata": {},
   "outputs": [
    {
     "name": "stdout",
     "output_type": "stream",
     "text": [
      "DataFrame exported to 'Beta Round Complete.csv' successfully.\n"
     ]
    }
   ],
   "source": [
    "# Export to csv\n",
    "csv_file_path = 'Beta Round Complete.csv'\n",
    "\n",
    "# Export the DataFrame to CSV\n",
    "df.to_csv(csv_file_path, index=False)\n",
    "print(f\"DataFrame exported to '{csv_file_path}' successfully.\")"
   ]
  }
 ],
 "metadata": {
  "kernelspec": {
   "display_name": "\"Python/Mu (mu_venv-38-20220219-132216)\"",
   "language": "python",
   "name": "mu_venv-38-20220219-132216"
  },
  "language_info": {
   "codemirror_mode": {
    "name": "ipython",
    "version": 3
   },
   "file_extension": ".py",
   "mimetype": "text/x-python",
   "name": "python",
   "nbconvert_exporter": "python",
   "pygments_lexer": "ipython3",
   "version": "3.8.11"
  }
 },
 "nbformat": 4,
 "nbformat_minor": 4
}
